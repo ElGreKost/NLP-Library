{
 "cells": [
  {
   "metadata": {},
   "cell_type": "markdown",
   "source": [
    "# Training RNN on a book\n",
    "Here Time Machine\n",
    "The special thing  \n",
    "Here is the input format, for each time-step generate a batch that contains the inputs\n"
   ],
   "id": "951058e43a380bfa"
  },
  {
   "metadata": {
    "ExecuteTime": {
     "end_time": "2024-05-15T15:45:16.836829Z",
     "start_time": "2024-05-15T15:45:16.072563Z"
    }
   },
   "cell_type": "code",
   "source": [
    "import torch as th\n",
    "a = th.tensor([-40, 12, 12, 16, 8, 11.6])\n",
    "a = th.tensor([0, 0, 0, 0])\n",
    "b = th.softmax(a,0)\n",
    "th.argmax(b, 0)"
   ],
   "id": "c5da4258222983b8",
   "outputs": [
    {
     "ename": "RuntimeError",
     "evalue": "\"softmax_lastdim_kernel_impl\" not implemented for 'Long'",
     "output_type": "error",
     "traceback": [
      "\u001B[1;31m---------------------------------------------------------------------------\u001B[0m",
      "\u001B[1;31mRuntimeError\u001B[0m                              Traceback (most recent call last)",
      "Cell \u001B[1;32mIn[8], line 4\u001B[0m\n\u001B[0;32m      2\u001B[0m a \u001B[38;5;241m=\u001B[39m th\u001B[38;5;241m.\u001B[39mtensor([\u001B[38;5;241m-\u001B[39m\u001B[38;5;241m40\u001B[39m, \u001B[38;5;241m12\u001B[39m, \u001B[38;5;241m12\u001B[39m, \u001B[38;5;241m16\u001B[39m, \u001B[38;5;241m8\u001B[39m, \u001B[38;5;241m11.6\u001B[39m])\n\u001B[0;32m      3\u001B[0m a \u001B[38;5;241m=\u001B[39m th\u001B[38;5;241m.\u001B[39mtensor([\u001B[38;5;241m0\u001B[39m, \u001B[38;5;241m0\u001B[39m, \u001B[38;5;241m0\u001B[39m, \u001B[38;5;241m0\u001B[39m])\n\u001B[1;32m----> 4\u001B[0m b \u001B[38;5;241m=\u001B[39m \u001B[43mth\u001B[49m\u001B[38;5;241;43m.\u001B[39;49m\u001B[43msoftmax\u001B[49m\u001B[43m(\u001B[49m\u001B[43ma\u001B[49m\u001B[43m,\u001B[49m\u001B[38;5;241;43m0\u001B[39;49m\u001B[43m)\u001B[49m\n\u001B[0;32m      5\u001B[0m th\u001B[38;5;241m.\u001B[39margmax(b, \u001B[38;5;241m0\u001B[39m)\n",
      "\u001B[1;31mRuntimeError\u001B[0m: \"softmax_lastdim_kernel_impl\" not implemented for 'Long'"
     ]
    }
   ],
   "execution_count": 8
  },
  {
   "metadata": {},
   "cell_type": "markdown",
   "source": "",
   "id": "42b759ab53c66d94"
  },
  {
   "cell_type": "code",
   "id": "initial_id",
   "metadata": {
    "collapsed": true,
    "ExecuteTime": {
     "end_time": "2024-05-14T21:36:48.791646Z",
     "start_time": "2024-05-14T21:36:48.786402Z"
    }
   },
   "source": [
    "import math\n",
    "import torch as th\n",
    "from torch import nn\n",
    "from torch.nn import functional as F\n",
    "from d2l import torch as d2l"
   ],
   "outputs": [],
   "execution_count": 49
  },
  {
   "metadata": {
    "ExecuteTime": {
     "end_time": "2024-05-14T21:36:48.821890Z",
     "start_time": "2024-05-14T21:36:48.802150Z"
    }
   },
   "cell_type": "code",
   "source": [
    "class RNNScratch(d2l.Module):\n",
    "    def __init__(self, num_inputs: int, num_hiddens: int, sigma=0.01) -> None:\n",
    "        super(RNNScratch, self).__init__()\n",
    "        self.save_hyperparameters()\n",
    "        self.W_xh = nn.Parameter(th.randn(num_inputs, num_hiddens) * sigma)\n",
    "        self.W_hh = nn.Parameter(th.randn(num_hiddens, num_hiddens) * sigma)\n",
    "        self.b_h = nn.Parameter(th.zeros(num_hiddens))"
   ],
   "id": "f1d8b77fe29af66b",
   "outputs": [],
   "execution_count": 50
  },
  {
   "metadata": {
    "ExecuteTime": {
     "end_time": "2024-05-14T21:36:48.828924Z",
     "start_time": "2024-05-14T21:36:48.821890Z"
    }
   },
   "cell_type": "code",
   "source": [
    "from typing import Optional\n",
    "@d2l.add_to_class(RNNScratch)\n",
    "def forward(self, inputs: th.tensor, state: Optional[th.tensor] = None):\n",
    "    if state is None:\n",
    "        # Initial state with shape: (batch_size, num_hiddens)\n",
    "        state = th.zeros((inputs.shape[1], self.num_hiddens), device=inputs.device)\n",
    "    else:\n",
    "        state, = state  # todo is state an iterable? is it a tuple?\n",
    "    outputs = []\n",
    "    for X in inputs:    # Shape of inputs: (num_steps, batch_size, num_inputs)\n",
    "        state = th.tanh(X @ self.W_xh + state @ self.W_hh + self.b_h)\n",
    "        outputs.append(state)\n",
    "    return outputs, state"
   ],
   "id": "51fe03d18b1ab218",
   "outputs": [],
   "execution_count": 51
  },
  {
   "metadata": {
    "ExecuteTime": {
     "end_time": "2024-05-14T21:36:48.863030Z",
     "start_time": "2024-05-14T21:36:48.849595Z"
    }
   },
   "cell_type": "code",
   "source": [
    "num_steps, batch_size, num_inputs, num_hiddens = 100, 2, 16, 32\n",
    "rnn = RNNScratch(num_inputs, num_hiddens)\n",
    "# Since now the X is X_t\n",
    "X = th.ones((num_steps, batch_size, num_inputs))\n",
    "outputs, state = rnn(X)\n",
    "outputs[0].shape, state.shape"
   ],
   "id": "6c7a19c38df2740e",
   "outputs": [
    {
     "data": {
      "text/plain": [
       "(torch.Size([2, 32]), torch.Size([2, 32]))"
      ]
     },
     "execution_count": 52,
     "metadata": {},
     "output_type": "execute_result"
    }
   ],
   "execution_count": 52
  },
  {
   "metadata": {
    "ExecuteTime": {
     "end_time": "2024-05-14T21:36:48.872559Z",
     "start_time": "2024-05-14T21:36:48.865532Z"
    }
   },
   "cell_type": "code",
   "source": [
    "def check_len(a, n):  #@save\n",
    "    \"\"\"Check the length of a list.\"\"\"\n",
    "    assert len(a) == n, f'list\\'s length {len(a)} != expected length {n}'\n",
    "\n",
    "def check_shape(a, shape):  #@save\n",
    "    \"\"\"Check the shape of a tensor.\"\"\"\n",
    "    assert a.shape == shape, \\\n",
    "            f'tensor\\'s shape {a.shape} != expected shape {shape}'\n",
    "\n",
    "check_len(outputs, num_steps)\n",
    "check_shape(outputs[0], (batch_size, num_hiddens))\n",
    "check_shape(state, (batch_size, num_hiddens))"
   ],
   "id": "6ffd1a577dcadd43",
   "outputs": [],
   "execution_count": 53
  },
  {
   "metadata": {
    "ExecuteTime": {
     "end_time": "2024-05-14T21:36:48.881154Z",
     "start_time": "2024-05-14T21:36:48.872559Z"
    }
   },
   "cell_type": "code",
   "source": [
    "class RNNLMScratch(d2l.Classifier):  #@save\n",
    "    \"\"\"The RNN-based language model implemented from scratch.\n",
    "    The main extra is that it generated the output\"\"\"\n",
    "    def __init__(self, rnn, vocab_size, lr=0.01):\n",
    "        super().__init__()\n",
    "        self.save_hyperparameters()\n",
    "        self.init_params()\n",
    "    \n",
    "    def init_params(self):  \n",
    "        \"\"\"Initializes the output weight parameters.\"\"\"\n",
    "        self.W_hq = nn.Parameter(\n",
    "            th.randn(\n",
    "                self.rnn.num_hiddens, self.vocab_size) * self.rnn.sigma)\n",
    "        self.b_q = nn.Parameter(th.zeros(self.vocab_size))\n",
    "    \n",
    "    def training_step(self, batch):\n",
    "        Y_hat = self(*batch[:-1])\n",
    "        Y = batch[-1]\n",
    "        l = self.loss(Y_hat, Y)\n",
    "        self.plot('ppl', th.exp(l), train=True)\n",
    "        return l\n",
    "    \n",
    "    def validation_step(self, batch):\n",
    "        l = self.loss(self(*batch[:-1]), batch[-1])\n",
    "        self.plot('ppl', th.exp(l), train=False)\n"
   ],
   "id": "a802eae0794c76fe",
   "outputs": [],
   "execution_count": 54
  },
  {
   "metadata": {
    "ExecuteTime": {
     "end_time": "2024-05-14T21:36:48.904452Z",
     "start_time": "2024-05-14T21:36:48.896886Z"
    }
   },
   "cell_type": "code",
   "source": [
    "oh = F.one_hot(th.tensor([0, 2]), 5)\n",
    "oh, oh.type(th.float32)"
   ],
   "id": "6545a427b4719ecc",
   "outputs": [
    {
     "data": {
      "text/plain": [
       "(tensor([[1, 0, 0, 0, 0],\n",
       "         [0, 0, 1, 0, 0]]),\n",
       " tensor([[1., 0., 0., 0., 0.],\n",
       "         [0., 0., 1., 0., 0.]]))"
      ]
     },
     "execution_count": 55,
     "metadata": {},
     "output_type": "execute_result"
    }
   ],
   "execution_count": 55
  },
  {
   "metadata": {
    "ExecuteTime": {
     "end_time": "2024-05-14T21:36:48.926322Z",
     "start_time": "2024-05-14T21:36:48.912957Z"
    }
   },
   "cell_type": "code",
   "source": [
    "@d2l.add_to_class(RNNLMScratch)  #@save\n",
    "def one_hot(self, X):\n",
    "    # Output shape: (num_steps, batch_size, vocab_size)\n",
    "    # Make them float to be able to operate on them.\n",
    "    return F.one_hot(X.T, self.vocab_size).type(th.float32)\n"
   ],
   "id": "58a311e003c79db1",
   "outputs": [],
   "execution_count": 56
  },
  {
   "metadata": {
    "ExecuteTime": {
     "end_time": "2024-05-14T21:36:48.952386Z",
     "start_time": "2024-05-14T21:36:48.944455Z"
    }
   },
   "cell_type": "code",
   "source": [
    "oh = F.one_hot(th.tensor([0, 2]), 5)\n",
    "oh.type(th.float32)"
   ],
   "id": "a6779b40a4b05ed9",
   "outputs": [
    {
     "data": {
      "text/plain": [
       "tensor([[1., 0., 0., 0., 0.],\n",
       "        [0., 0., 1., 0., 0.]])"
      ]
     },
     "execution_count": 57,
     "metadata": {},
     "output_type": "execute_result"
    }
   ],
   "execution_count": 57
  },
  {
   "metadata": {},
   "cell_type": "markdown",
   "source": "",
   "id": "3b1a2e5d2df5adaa"
  },
  {
   "metadata": {
    "ExecuteTime": {
     "end_time": "2024-05-14T21:36:48.980876Z",
     "start_time": "2024-05-14T21:36:48.960392Z"
    }
   },
   "cell_type": "code",
   "source": [
    "@d2l.add_to_class(RNNLMScratch)\n",
    "def output_layer(self, rnn_outputs: th.tensor):\n",
    "    outputs = [H @ self.W_hq + self.b_q for H in rnn_outputs]\n",
    "    return th.stack(outputs, dim=1)\n",
    "\n",
    "@d2l.add_to_class(RNNLMScratch)\n",
    "def forward(self, X: th.tensor, state: Optional[th.tensor] = None) -> th.tensor:\n",
    "    embs = self.one_hot(X)\n",
    "    rnn_outputs, _ = self.rnn(embs, state)\n",
    "    return self.output_layer(rnn_outputs)"
   ],
   "id": "3fa1cf4fe7517a60",
   "outputs": [],
   "execution_count": 58
  },
  {
   "metadata": {
    "ExecuteTime": {
     "end_time": "2024-05-14T21:36:48.991324Z",
     "start_time": "2024-05-14T21:36:48.980876Z"
    }
   },
   "cell_type": "code",
   "source": [
    "model = RNNLMScratch(rnn, num_inputs)\n",
    "outputs = model(th.ones((batch_size, num_steps), dtype=th.int64))\n",
    "check_shape(outputs, (batch_size, num_steps, num_inputs))\n"
   ],
   "id": "aba1b978c8c00d4d",
   "outputs": [],
   "execution_count": 58
  }
 ],
 "metadata": {
  "kernelspec": {
   "display_name": "Python 3",
   "language": "python",
   "name": "python3"
  },
  "language_info": {
   "codemirror_mode": {
    "name": "ipython",
    "version": 2
   },
   "file_extension": ".py",
   "mimetype": "text/x-python",
   "name": "python",
   "nbconvert_exporter": "python",
   "pygments_lexer": "ipython2",
   "version": "2.7.6"
  }
 },
 "nbformat": 4,
 "nbformat_minor": 5
}
