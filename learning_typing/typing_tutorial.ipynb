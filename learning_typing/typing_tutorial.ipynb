{
 "cells": [
  {
   "cell_type": "code",
   "id": "initial_id",
   "metadata": {
    "collapsed": true,
    "ExecuteTime": {
     "end_time": "2024-05-13T17:44:56.896252Z",
     "start_time": "2024-05-13T17:44:56.888527Z"
    }
   },
   "source": [
    "def add(a: int, b: int) -> int:\n",
    "    return a + b"
   ],
   "outputs": [],
   "execution_count": 1
  },
  {
   "metadata": {},
   "cell_type": "markdown",
   "source": [
    "**Static Code Analysis __(compiler_like)__** with mypy checks the code in case you use correct types as the functions are supposed to take them  \n",
    "For that we use `mypy`"
   ],
   "id": "f4e0aa9f3cf9f36f"
  },
  {
   "metadata": {},
   "cell_type": "markdown",
   "source": "",
   "id": "75540ab2e04a9a0c"
  },
  {
   "metadata": {
    "ExecuteTime": {
     "end_time": "2024-05-13T18:10:26.315537Z",
     "start_time": "2024-05-13T18:10:26.310876Z"
    }
   },
   "cell_type": "code",
   "source": [
    "# Callables\n",
    "import time\n",
    "from collections.abc import Callable\n",
    "\n",
    "def work(send_notification: Callable[[str], None]) -> None:\n",
    "    for i in range(3):\n",
    "        time.sleep(1)\n",
    "        send_notification(f\"Hello {i} World!\")"
   ],
   "id": "b6e6ad736802e57c",
   "outputs": [],
   "execution_count": 6
  },
  {
   "metadata": {
    "ExecuteTime": {
     "end_time": "2024-05-13T18:09:18.303972Z",
     "start_time": "2024-05-13T18:09:18.293309Z"
    }
   },
   "cell_type": "code",
   "source": "",
   "id": "70c4b6ae6cb15bba",
   "outputs": [],
   "execution_count": 4
  }
 ],
 "metadata": {
  "kernelspec": {
   "display_name": "Python 3",
   "language": "python",
   "name": "python3"
  },
  "language_info": {
   "codemirror_mode": {
    "name": "ipython",
    "version": 2
   },
   "file_extension": ".py",
   "mimetype": "text/x-python",
   "name": "python",
   "nbconvert_exporter": "python",
   "pygments_lexer": "ipython2",
   "version": "2.7.6"
  }
 },
 "nbformat": 4,
 "nbformat_minor": 5
}
